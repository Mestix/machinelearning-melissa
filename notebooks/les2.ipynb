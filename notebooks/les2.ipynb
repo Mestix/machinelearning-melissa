{
 "cells": [
  {
   "cell_type": "code",
   "execution_count": 5,
   "id": "0b01e6ad",
   "metadata": {},
   "outputs": [],
   "source": [
    "from mltrainer import Trainer, TrainerSettings, ReportTypes, metrics\n",
    "from mads_datasets import DatasetFactoryProvider, DatasetType\n",
    "from mltrainer.preprocessors import BasePreprocessor\n",
    "import torch\n",
    "\n",
    "import torch.optim as optim\n",
    "optimizer = optim.Adam\n",
    "\n",
    "import sys \n",
    "import os\n",
    "sys.path.append(os.path.abspath('../models'))\n",
    "sys.path.append(os.path.abspath('../dev'))"
   ]
  },
  {
   "cell_type": "code",
   "execution_count": 2,
   "id": "d1942751",
   "metadata": {},
   "outputs": [
    {
     "name": "stderr",
     "output_type": "stream",
     "text": [
      "\u001b[32m2025-05-15 19:57:40.146\u001b[0m | \u001b[1mINFO    \u001b[0m | \u001b[36mmads_datasets.base\u001b[0m:\u001b[36mdownload_data\u001b[0m:\u001b[36m121\u001b[0m - \u001b[1mFolder already exists at /home/azureuser/.cache/mads_datasets/fashionmnist\u001b[0m\n",
      "\u001b[32m2025-05-15 19:57:40.147\u001b[0m | \u001b[1mINFO    \u001b[0m | \u001b[36mmads_datasets.base\u001b[0m:\u001b[36mdownload_data\u001b[0m:\u001b[36m124\u001b[0m - \u001b[1mFile already exists at /home/azureuser/.cache/mads_datasets/fashionmnist/fashionmnist.pt\u001b[0m\n"
     ]
    }
   ],
   "source": [
    "fashionfactory = DatasetFactoryProvider.create_factory(DatasetType.FASHION)\n",
    "preprocessor = BasePreprocessor()\n",
    "\n",
    "batchsize = 32\n",
    "\n",
    "streamers = fashionfactory.create_datastreamer(batchsize=batchsize, preprocessor=preprocessor)\n",
    "train = streamers[\"train\"]\n",
    "valid = streamers[\"valid\"]\n",
    "\n",
    "trainstreamer = train.stream()\n",
    "validstreamer = valid.stream()\n"
   ]
  },
  {
   "cell_type": "code",
   "execution_count": null,
   "id": "987de324",
   "metadata": {},
   "outputs": [
    {
     "name": "stderr",
     "output_type": "stream",
     "text": [
      "\u001b[32m2025-05-15 19:57:43.797\u001b[0m | \u001b[1mINFO    \u001b[0m | \u001b[36mmltrainer.trainer\u001b[0m:\u001b[36mdir_add_timestamp\u001b[0m:\u001b[36m24\u001b[0m - \u001b[1mLogging to /home/azureuser/machinelearning-melissa/notebooks/modellog/20250515-195743\u001b[0m\n",
      "\u001b[32m2025-05-15 19:57:43.798\u001b[0m | \u001b[1mINFO    \u001b[0m | \u001b[36mmltrainer.trainer\u001b[0m:\u001b[36m__init__\u001b[0m:\u001b[36m68\u001b[0m - \u001b[1mFound earlystop_kwargs in settings.Set to None if you dont want earlystopping.\u001b[0m\n"
     ]
    }
   ],
   "source": [
    "from pathlib import Path\n",
    "from CNN import CNN\n",
    "\n",
    "log_dir = Path(\"modellog\").resolve()\n",
    "if not log_dir.exists():\n",
    "    log_dir.mkdir(parents=True)\n",
    "\n",
    "accuracy = metrics.Accuracy()\n",
    "loss_fn = torch.nn.CrossEntropyLoss()\n",
    "\n",
    "model = CNN(units = 128)\n",
    "\n",
    "settings = TrainerSettings(\n",
    "    epochs=100,\n",
    "    metrics=[accuracy],\n",
    "    logdir=log_dir,\n",
    "    train_steps=len(train),\n",
    "    valid_steps=len(valid),\n",
    "    reporttypes=[ReportTypes.TENSORBOARD, ReportTypes.TOML],\n",
    "    earlystop_kwargs={\n",
    "        \"save\": False,\n",
    "        \"verbose\": True,\n",
    "        \"patience\": 100,\n",
    "    },\n",
    "    scheduler_kwargs={\n",
    "        \"factor\": 0.5,\n",
    "        \"patience\": 10\n",
    "    }\n",
    ")\n",
    "adam = optim.Adam(model.parameters(), lr=0.01)\n",
    "\n",
    "trainer = Trainer(\n",
    "    model=model,\n",
    "    settings=settings,\n",
    "    loss_fn=loss_fn,\n",
    "    optimizer=optimizer,\n",
    "    traindataloader=trainstreamer,\n",
    "    validdataloader=validstreamer,\n",
    "    scheduler=optim.lr_scheduler.ReduceLROnPlateau,\n",
    "    )"
   ]
  },
  {
   "cell_type": "code",
   "execution_count": 4,
   "id": "5c977257",
   "metadata": {},
   "outputs": [
    {
     "name": "stderr",
     "output_type": "stream",
     "text": [
      "100%|\u001b[38;2;30;71;6m██████████\u001b[0m| 1875/1875 [00:18<00:00, 103.37it/s]\n",
      "\u001b[32m2025-05-15 19:58:05.381\u001b[0m | \u001b[1mINFO    \u001b[0m | \u001b[36mmltrainer.trainer\u001b[0m:\u001b[36mreport\u001b[0m:\u001b[36m205\u001b[0m - \u001b[1mEpoch 0 train 0.4057 test 0.3302 metric ['0.8777']\u001b[0m\n",
      "100%|\u001b[38;2;30;71;6m██████████\u001b[0m| 1875/1875 [00:18<00:00, 101.23it/s]\n",
      "\u001b[32m2025-05-15 19:58:25.028\u001b[0m | \u001b[1mINFO    \u001b[0m | \u001b[36mmltrainer.trainer\u001b[0m:\u001b[36mreport\u001b[0m:\u001b[36m205\u001b[0m - \u001b[1mEpoch 2 train 0.2933 test 0.3051 metric ['0.8888']\u001b[0m\n",
      "100%|\u001b[38;2;30;71;6m██████████\u001b[0m| 1875/1875 [00:18<00:00, 102.72it/s]\n",
      "\u001b[32m2025-05-15 19:58:44.331\u001b[0m | \u001b[1mINFO    \u001b[0m | \u001b[36mmltrainer.trainer\u001b[0m:\u001b[36mreport\u001b[0m:\u001b[36m205\u001b[0m - \u001b[1mEpoch 4 train 0.2579 test 0.2958 metric ['0.8923']\u001b[0m\n",
      "100%|\u001b[38;2;30;71;6m██████████\u001b[0m| 1875/1875 [00:18<00:00, 101.44it/s]\n",
      "\u001b[32m2025-05-15 19:59:03.906\u001b[0m | \u001b[1mINFO    \u001b[0m | \u001b[36mmltrainer.trainer\u001b[0m:\u001b[36mreport\u001b[0m:\u001b[36m205\u001b[0m - \u001b[1mEpoch 6 train 0.2365 test 0.2831 metric ['0.8996']\u001b[0m\n",
      "100%|\u001b[38;2;30;71;6m██████████\u001b[0m| 1875/1875 [00:18<00:00, 102.61it/s]\n",
      "\u001b[32m2025-05-15 19:59:23.261\u001b[0m | \u001b[1mINFO    \u001b[0m | \u001b[36mmltrainer.trainer\u001b[0m:\u001b[36mreport\u001b[0m:\u001b[36m205\u001b[0m - \u001b[1mEpoch 8 train 0.2181 test 0.2793 metric ['0.9026']\u001b[0m\n",
      "100%|\u001b[38;2;30;71;6m██████████\u001b[0m| 1875/1875 [00:18<00:00, 102.68it/s]\n",
      "\u001b[32m2025-05-15 19:59:42.605\u001b[0m | \u001b[1mINFO    \u001b[0m | \u001b[36mmltrainer.trainer\u001b[0m:\u001b[36mreport\u001b[0m:\u001b[36m205\u001b[0m - \u001b[1mEpoch 10 train 0.2049 test 0.3209 metric ['0.8886']\u001b[0m\n",
      "\u001b[32m2025-05-15 19:59:42.606\u001b[0m | \u001b[1mINFO    \u001b[0m | \u001b[36mmltrainer.trainer\u001b[0m:\u001b[36m__call__\u001b[0m:\u001b[36m248\u001b[0m - \u001b[1mbest loss: 0.2793, current loss 0.3209.Counter 1/50.\u001b[0m\n",
      "100%|\u001b[38;2;30;71;6m██████████\u001b[0m| 1875/1875 [00:18<00:00, 102.50it/s]\n",
      "\u001b[32m2025-05-15 20:00:02.035\u001b[0m | \u001b[1mINFO    \u001b[0m | \u001b[36mmltrainer.trainer\u001b[0m:\u001b[36mreport\u001b[0m:\u001b[36m205\u001b[0m - \u001b[1mEpoch 12 train 0.1924 test 0.2836 metric ['0.9044']\u001b[0m\n",
      "\u001b[32m2025-05-15 20:00:02.036\u001b[0m | \u001b[1mINFO    \u001b[0m | \u001b[36mmltrainer.trainer\u001b[0m:\u001b[36m__call__\u001b[0m:\u001b[36m248\u001b[0m - \u001b[1mbest loss: 0.2793, current loss 0.2836.Counter 2/50.\u001b[0m\n",
      "100%|\u001b[38;2;30;71;6m██████████\u001b[0m| 1875/1875 [00:18<00:00, 99.42it/s]\n",
      "\u001b[32m2025-05-15 20:00:22.085\u001b[0m | \u001b[1mINFO    \u001b[0m | \u001b[36mmltrainer.trainer\u001b[0m:\u001b[36mreport\u001b[0m:\u001b[36m205\u001b[0m - \u001b[1mEpoch 14 train 0.1832 test 0.2902 metric ['0.9014']\u001b[0m\n",
      "\u001b[32m2025-05-15 20:00:22.086\u001b[0m | \u001b[1mINFO    \u001b[0m | \u001b[36mmltrainer.trainer\u001b[0m:\u001b[36m__call__\u001b[0m:\u001b[36m248\u001b[0m - \u001b[1mbest loss: 0.2793, current loss 0.2902.Counter 3/50.\u001b[0m\n",
      "100%|\u001b[38;2;30;71;6m██████████\u001b[0m| 1875/1875 [00:19<00:00, 94.35it/s]\n",
      "\u001b[32m2025-05-15 20:00:43.951\u001b[0m | \u001b[1mINFO    \u001b[0m | \u001b[36mmltrainer.trainer\u001b[0m:\u001b[36mreport\u001b[0m:\u001b[36m205\u001b[0m - \u001b[1mEpoch 16 train 0.1733 test 0.2904 metric ['0.9030']\u001b[0m\n",
      "\u001b[32m2025-05-15 20:00:43.952\u001b[0m | \u001b[1mINFO    \u001b[0m | \u001b[36mmltrainer.trainer\u001b[0m:\u001b[36m__call__\u001b[0m:\u001b[36m248\u001b[0m - \u001b[1mbest loss: 0.2793, current loss 0.2904.Counter 4/50.\u001b[0m\n",
      "100%|\u001b[38;2;30;71;6m██████████\u001b[0m| 1875/1875 [00:20<00:00, 92.45it/s]\n",
      "\u001b[32m2025-05-15 20:01:05.524\u001b[0m | \u001b[1mINFO    \u001b[0m | \u001b[36mmltrainer.trainer\u001b[0m:\u001b[36mreport\u001b[0m:\u001b[36m205\u001b[0m - \u001b[1mEpoch 18 train 0.1664 test 0.2884 metric ['0.9048']\u001b[0m\n",
      "\u001b[32m2025-05-15 20:01:05.525\u001b[0m | \u001b[1mINFO    \u001b[0m | \u001b[36mmltrainer.trainer\u001b[0m:\u001b[36m__call__\u001b[0m:\u001b[36m248\u001b[0m - \u001b[1mbest loss: 0.2793, current loss 0.2884.Counter 5/50.\u001b[0m\n",
      "100%|\u001b[38;2;30;71;6m██████████\u001b[0m| 1875/1875 [00:18<00:00, 99.60it/s] \n",
      "\u001b[32m2025-05-15 20:01:26.013\u001b[0m | \u001b[1mINFO    \u001b[0m | \u001b[36mmltrainer.trainer\u001b[0m:\u001b[36mreport\u001b[0m:\u001b[36m205\u001b[0m - \u001b[1mEpoch 20 train 0.1587 test 0.3004 metric ['0.9008']\u001b[0m\n",
      "\u001b[32m2025-05-15 20:01:26.015\u001b[0m | \u001b[1mINFO    \u001b[0m | \u001b[36mmltrainer.trainer\u001b[0m:\u001b[36m__call__\u001b[0m:\u001b[36m248\u001b[0m - \u001b[1mbest loss: 0.2793, current loss 0.3004.Counter 6/50.\u001b[0m\n",
      "100%|\u001b[38;2;30;71;6m██████████\u001b[0m| 1875/1875 [00:18<00:00, 99.95it/s] \n",
      "\u001b[32m2025-05-15 20:01:45.905\u001b[0m | \u001b[1mINFO    \u001b[0m | \u001b[36mmltrainer.trainer\u001b[0m:\u001b[36mreport\u001b[0m:\u001b[36m205\u001b[0m - \u001b[1mEpoch 22 train 0.1527 test 0.3050 metric ['0.9019']\u001b[0m\n",
      "\u001b[32m2025-05-15 20:01:45.907\u001b[0m | \u001b[1mINFO    \u001b[0m | \u001b[36mmltrainer.trainer\u001b[0m:\u001b[36m__call__\u001b[0m:\u001b[36m248\u001b[0m - \u001b[1mbest loss: 0.2793, current loss 0.3050.Counter 7/50.\u001b[0m\n",
      "100%|\u001b[38;2;30;71;6m██████████\u001b[0m| 1875/1875 [00:18<00:00, 100.75it/s]\n",
      "\u001b[32m2025-05-15 20:02:05.617\u001b[0m | \u001b[1mINFO    \u001b[0m | \u001b[36mmltrainer.trainer\u001b[0m:\u001b[36mreport\u001b[0m:\u001b[36m205\u001b[0m - \u001b[1mEpoch 24 train 0.1439 test 0.3143 metric ['0.9044']\u001b[0m\n",
      "\u001b[32m2025-05-15 20:02:05.619\u001b[0m | \u001b[1mINFO    \u001b[0m | \u001b[36mmltrainer.trainer\u001b[0m:\u001b[36m__call__\u001b[0m:\u001b[36m248\u001b[0m - \u001b[1mbest loss: 0.2793, current loss 0.3143.Counter 8/50.\u001b[0m\n",
      "100%|\u001b[38;2;30;71;6m██████████\u001b[0m| 1875/1875 [00:18<00:00, 99.54it/s]\n",
      "\u001b[32m2025-05-15 20:02:25.738\u001b[0m | \u001b[1mINFO    \u001b[0m | \u001b[36mmltrainer.trainer\u001b[0m:\u001b[36mreport\u001b[0m:\u001b[36m205\u001b[0m - \u001b[1mEpoch 26 train 0.1418 test 0.3195 metric ['0.9067']\u001b[0m\n",
      "\u001b[32m2025-05-15 20:02:25.739\u001b[0m | \u001b[1mINFO    \u001b[0m | \u001b[36mmltrainer.trainer\u001b[0m:\u001b[36m__call__\u001b[0m:\u001b[36m248\u001b[0m - \u001b[1mbest loss: 0.2793, current loss 0.3195.Counter 9/50.\u001b[0m\n",
      "100%|\u001b[38;2;30;71;6m██████████\u001b[0m| 1875/1875 [00:20<00:00, 89.99it/s]\n",
      "\u001b[32m2025-05-15 20:02:48.007\u001b[0m | \u001b[1mINFO    \u001b[0m | \u001b[36mmltrainer.trainer\u001b[0m:\u001b[36mreport\u001b[0m:\u001b[36m205\u001b[0m - \u001b[1mEpoch 28 train 0.1378 test 0.3225 metric ['0.9052']\u001b[0m\n",
      "\u001b[32m2025-05-15 20:02:48.008\u001b[0m | \u001b[1mINFO    \u001b[0m | \u001b[36mmltrainer.trainer\u001b[0m:\u001b[36m__call__\u001b[0m:\u001b[36m248\u001b[0m - \u001b[1mbest loss: 0.2793, current loss 0.3225.Counter 10/50.\u001b[0m\n",
      "100%|\u001b[38;2;30;71;6m██████████\u001b[0m| 1875/1875 [00:20<00:00, 90.37it/s]\n",
      "\u001b[32m2025-05-15 20:03:10.529\u001b[0m | \u001b[1mINFO    \u001b[0m | \u001b[36mmltrainer.trainer\u001b[0m:\u001b[36mreport\u001b[0m:\u001b[36m205\u001b[0m - \u001b[1mEpoch 30 train 0.1314 test 0.3215 metric ['0.9042']\u001b[0m\n",
      "\u001b[32m2025-05-15 20:03:10.531\u001b[0m | \u001b[1mINFO    \u001b[0m | \u001b[36mmltrainer.trainer\u001b[0m:\u001b[36m__call__\u001b[0m:\u001b[36m248\u001b[0m - \u001b[1mbest loss: 0.2793, current loss 0.3215.Counter 11/50.\u001b[0m\n",
      "100%|\u001b[38;2;30;71;6m██████████\u001b[0m| 1875/1875 [00:19<00:00, 95.16it/s]\n",
      "\u001b[32m2025-05-15 20:03:31.523\u001b[0m | \u001b[1mINFO    \u001b[0m | \u001b[36mmltrainer.trainer\u001b[0m:\u001b[36mreport\u001b[0m:\u001b[36m205\u001b[0m - \u001b[1mEpoch 32 train 0.1281 test 0.3153 metric ['0.9065']\u001b[0m\n",
      "\u001b[32m2025-05-15 20:03:31.524\u001b[0m | \u001b[1mINFO    \u001b[0m | \u001b[36mmltrainer.trainer\u001b[0m:\u001b[36m__call__\u001b[0m:\u001b[36m248\u001b[0m - \u001b[1mbest loss: 0.2793, current loss 0.3153.Counter 12/50.\u001b[0m\n",
      "100%|\u001b[38;2;30;71;6m██████████\u001b[0m| 1875/1875 [00:20<00:00, 90.03it/s]\n",
      "\u001b[32m2025-05-15 20:03:53.725\u001b[0m | \u001b[1mINFO    \u001b[0m | \u001b[36mmltrainer.trainer\u001b[0m:\u001b[36mreport\u001b[0m:\u001b[36m205\u001b[0m - \u001b[1mEpoch 34 train 0.1251 test 0.3151 metric ['0.9062']\u001b[0m\n",
      "\u001b[32m2025-05-15 20:03:53.726\u001b[0m | \u001b[1mINFO    \u001b[0m | \u001b[36mmltrainer.trainer\u001b[0m:\u001b[36m__call__\u001b[0m:\u001b[36m248\u001b[0m - \u001b[1mbest loss: 0.2793, current loss 0.3151.Counter 13/50.\u001b[0m\n",
      "100%|\u001b[38;2;30;71;6m██████████\u001b[0m| 1875/1875 [00:20<00:00, 92.50it/s]\n",
      "\u001b[32m2025-05-15 20:04:15.240\u001b[0m | \u001b[1mINFO    \u001b[0m | \u001b[36mmltrainer.trainer\u001b[0m:\u001b[36mreport\u001b[0m:\u001b[36m205\u001b[0m - \u001b[1mEpoch 36 train 0.1224 test 0.3321 metric ['0.9082']\u001b[0m\n",
      "\u001b[32m2025-05-15 20:04:15.241\u001b[0m | \u001b[1mINFO    \u001b[0m | \u001b[36mmltrainer.trainer\u001b[0m:\u001b[36m__call__\u001b[0m:\u001b[36m248\u001b[0m - \u001b[1mbest loss: 0.2793, current loss 0.3321.Counter 14/50.\u001b[0m\n",
      "100%|\u001b[38;2;30;71;6m██████████\u001b[0m| 1875/1875 [00:19<00:00, 94.50it/s]\n",
      "\u001b[32m2025-05-15 20:04:36.385\u001b[0m | \u001b[1mINFO    \u001b[0m | \u001b[36mmltrainer.trainer\u001b[0m:\u001b[36mreport\u001b[0m:\u001b[36m205\u001b[0m - \u001b[1mEpoch 38 train 0.1187 test 0.3402 metric ['0.9057']\u001b[0m\n",
      "\u001b[32m2025-05-15 20:04:36.386\u001b[0m | \u001b[1mINFO    \u001b[0m | \u001b[36mmltrainer.trainer\u001b[0m:\u001b[36m__call__\u001b[0m:\u001b[36m248\u001b[0m - \u001b[1mbest loss: 0.2793, current loss 0.3402.Counter 15/50.\u001b[0m\n",
      "100%|\u001b[38;2;30;71;6m██████████\u001b[0m| 20/20 [06:50<00:00, 20.51s/it]\n"
     ]
    }
   ],
   "source": [
    "trainer.loop()"
   ]
  }
 ],
 "metadata": {
  "kernelspec": {
   "display_name": ".venv",
   "language": "python",
   "name": "python3"
  },
  "language_info": {
   "codemirror_mode": {
    "name": "ipython",
    "version": 3
   },
   "file_extension": ".py",
   "mimetype": "text/x-python",
   "name": "python",
   "nbconvert_exporter": "python",
   "pygments_lexer": "ipython3",
   "version": "3.11.9"
  }
 },
 "nbformat": 4,
 "nbformat_minor": 5
}
